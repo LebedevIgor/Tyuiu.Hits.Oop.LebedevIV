{
 "cells": [
  {
   "cell_type": "markdown",
   "metadata": {},
   "source": [
    "<h1 style=\"color:DodgerBlue\">Индивидальный проект</h1>"
   ]
  },
  {
   "cell_type": "markdown",
   "metadata": {},
   "source": [
    "<h2 style=\"color:DodgerBlue\">Название проекта:</h2>\n",
    "\n",
    "----\n",
    "\n",
    "### Вариант задания № 11\n"
   ]
  },
  {
   "cell_type": "markdown",
   "metadata": {},
   "source": [
    "<h2 style=\"color:DodgerBlue\">Описание проекта:</h2>\n",
    "\n",
    "В своих проектах вы должны продемонстрировать различные\n",
    "концепций объектно-ориентированного программирования, такие как\n",
    "инкапсуляция, наследование, полиморфизм, (композиция или\n",
    "абстракция приветствуются) с созданием от базового класса 2-3\n",
    "производных классов и нескольких экземпляров (объектов) этих\n",
    "классов.\n",
    "\n",
    "\n",
    "----\n",
    "\n",
    "Описание задачи:\n",
    "Создать базовый класс Customer в C#, который будет представлять информацию о\n",
    "клиентах или покупателях. На основе этого класса разработать 2-3 производных\n",
    "класса, демонстрирующих принципы наследования и полиморфизма. В каждом из\n",
    "классов должны быть реализованы новые атрибуты и методы, а также\n",
    "переопределены некоторые методы базового класса для демонстрации\n",
    "полиморфизма.\n",
    "\n",
    "\n",
    "Требования к базовому классу Customer:\n",
    "\n",
    "1. Атрибуты: Идентификатор клиента (CustomerId), Имя (Name), Электронная\n",
    "почта (Email).\n",
    "\n",
    "2. Методы: \n",
    "o GetFullName(): метод для получения полного имени клиента.\n",
    "\n",
    "o UpdateEmail(string newEmail): метод для обновления электронной\n",
    "почты клиента.\n",
    "\n",
    "o ViewProfile(): метод для просмотра профиля клиента.\n",
    "\n",
    "Требования к производным классам:\n",
    "1. VIPКлиент (VipCustomer): Должен содержать дополнительные атрибуты,\n",
    "такие как Баланс лояльности (LoyaltyPoints). Метод ViewProfile() должен быть\n",
    "переопределен для отображения дополнительной информации о VIPклиенте.\n",
    "2. ОбычныйКлиент (RegularCustomer): Должен содержать дополнительные\n",
    "атрибуты, такие как Дата регистрации (RegistrationDate).\n",
    "Метод UpdateEmail() должен быть переопределен для добавления\n",
    "информации о дате последнего обновления электронной почты.\n",
    "3. ГрупповойКлиент (GroupCustomer) (если требуется третий класс): Должен\n",
    "содержать дополнительные атрибуты, такие как Название группы\n",
    "(GroupName). Метод GetFullName() должен быть переопределен для\n",
    "отображения названия группы вместо имени клиента.\n"
   ]
  },
  {
   "cell_type": "markdown",
   "metadata": {},
   "source": [
    "<h2 style=\"color:DodgerBlue\">Реализация:</h2>\n",
    "\n",
    "----"
   ]
  },
  {
   "cell_type": "code",
   "execution_count": 2,
   "metadata": {
    "dotnet_interactive": {
     "language": "csharp"
    },
    "polyglot_notebook": {
     "kernelName": "csharp"
    }
   },
   "outputs": [
    {
     "name": "stdout",
     "output_type": "stream",
     "text": [
      "Игорь\n",
      "ID: 1, Имя: Игорь, Email: igor@mail.ru\n",
      "Email обновлен: newEmail@mail.ru\n",
      "ID: 1, Имя: Игорь, Email: newEmail@mail.ru\n"
     ]
    }
   ],
   "source": [
    "public class Customer\n",
    "{\n",
    "    public int CustomerId { get; set; }\n",
    "    public string Name { get; set; }\n",
    "    public string Email { get; set; }\n",
    "\n",
    "    public Customer(int customerId, string name, string email)\n",
    "    {\n",
    "        CustomerId = customerId;\n",
    "        Name = name;\n",
    "        Email = email;\n",
    "    }\n",
    "\n",
    "    public virtual string GetFullName()\n",
    "    {\n",
    "        return Name;\n",
    "    }\n",
    "\n",
    "    public virtual void UpdateEmail(string newEmail)\n",
    "    {\n",
    "        Email = newEmail;\n",
    "        Console.WriteLine($\"Email обновлен: {Email}\");\n",
    "    }\n",
    "\n",
    "    public virtual void ViewProfile()\n",
    "    {\n",
    "        Console.WriteLine($\"ID: {CustomerId}, Имя: {Name}, Email: {Email}\");\n",
    "    }\n",
    "}\n",
    "\n",
    "Customer myCustomer = new Customer(1,\"Игорь\",\"igor@mail.ru\");\n",
    "string userName = myCustomer.GetFullName();\n",
    "Console.WriteLine(userName);\n",
    "myCustomer.ViewProfile();\n",
    "myCustomer.UpdateEmail(\"newEmail@mail.ru\");\n",
    "myCustomer.ViewProfile();"
   ]
  },
  {
   "cell_type": "code",
   "execution_count": 16,
   "metadata": {},
   "outputs": [
    {
     "name": "stdout",
     "output_type": "stream",
     "text": [
      "ID: 1, Имя: Игорь, Email: igor@mail.ru\n",
      "Баланс лояльности: 54\n"
     ]
    }
   ],
   "source": [
    "public class VipCustomer : Customer\n",
    "{\n",
    "    public int LoyaltyPoints { get; set; }\n",
    "\n",
    "    public VipCustomer(int customerId, string name, string email, int loyaltyPoints):base(customerId, name, email)\n",
    "    {\n",
    "        LoyaltyPoints = loyaltyPoints;\n",
    "    }\n",
    "\n",
    "    public override void ViewProfile()\n",
    "    {\n",
    "        base.ViewProfile();\n",
    "        Console.WriteLine($\"Баланс лояльности: {LoyaltyPoints}\");\n",
    "    }\n",
    "}\n",
    "\n",
    "VipCustomer myVipCustomer = new VipCustomer(1,\"Игорь\",\"igor@mail.ru\", 54);\n",
    "myVipCustomer.ViewProfile();"
   ]
  },
  {
   "cell_type": "code",
   "execution_count": 27,
   "metadata": {},
   "outputs": [
    {
     "name": "stdout",
     "output_type": "stream",
     "text": [
      "Дата регистрации: 12.09.2024 00:00:00\n",
      "ID: 1, Имя: Игорь, Email: igor@mail.ru\n",
      "Email обновлен: newEmail@mail.ru\n",
      "Последнее обновления: 14.09.2024 02:52:00\n"
     ]
    }
   ],
   "source": [
    "public class RegularCustomer : Customer\n",
    "{\n",
    "    public DateTime RegistrationDate { get; set; }\n",
    "    public DateTime LastEmailUpdate { get; private set; }\n",
    "\n",
    "    public RegularCustomer(int customerId, string name, string email, DateTime registrationDate): base(customerId, name, email)\n",
    "    {\n",
    "        RegistrationDate = registrationDate;\n",
    "        LastEmailUpdate = DateTime.Now;\n",
    "        Console.WriteLine($\"Дата регистрации: {RegistrationDate}\");\n",
    "    }\n",
    "\n",
    "    public override void UpdateEmail(string newEmail)\n",
    "    {\n",
    "        base.UpdateEmail(newEmail);\n",
    "        LastEmailUpdate = DateTime.Now;\n",
    "        Console.WriteLine($\"Последнее обновления: {LastEmailUpdate}\");\n",
    "    }\n",
    "}\n",
    "\n",
    "RegularCustomer myRegularCustomer = new RegularCustomer(1,\"Игорь\",\"igor@mail.ru\", new DateTime(2024, 9, 12));\n",
    "myRegularCustomer.ViewProfile();\n",
    "myRegularCustomer.UpdateEmail(\"newEmail@mail.ru\");"
   ]
  },
  {
   "cell_type": "code",
   "execution_count": 29,
   "metadata": {},
   "outputs": [
    {
     "name": "stdout",
     "output_type": "stream",
     "text": [
      "Group Name: Игори, Email: igors@mail.ru\r\n"
     ]
    }
   ],
   "source": [
    "public class GroupCustomer : Customer\n",
    "{\n",
    "    public string GroupName { get; set; }\n",
    "\n",
    "    public GroupCustomer(int customerId, string groupName, string email): base(customerId, groupName, email)\n",
    "    {\n",
    "        GroupName = groupName;\n",
    "    }\n",
    "\n",
    "    public override string GetFullName()\n",
    "    {\n",
    "        return GroupName;\n",
    "    }\n",
    "\n",
    "    public override void ViewProfile()\n",
    "    {\n",
    "        Console.WriteLine($\"Group Name: {GroupName}, Email: {Email}\");\n",
    "    }\n",
    "}\n",
    "\n",
    "GroupCustomer myGroupCustomer = new GroupCustomer(1,\"Игори\",\"igors@mail.ru\");\n",
    "myGroupCustomer.GetFullName();\n",
    "myGroupCustomer.ViewProfile();"
   ]
  }
 ],
 "metadata": {
  "kernelspec": {
   "display_name": ".NET (C#)",
   "language": "C#",
   "name": ".net-csharp"
  },
  "polyglot_notebook": {
   "kernelInfo": {
    "defaultKernelName": "csharp",
    "items": [
     {
      "aliases": [],
      "languageName": "csharp",
      "name": "csharp"
     }
    ]
   }
  }
 },
 "nbformat": 4,
 "nbformat_minor": 2
}
