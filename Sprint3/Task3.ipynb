{
 "cells": [
  {
   "cell_type": "markdown",
   "metadata": {},
   "source": [
    "<h1 style=\"color:DodgerBlue\">Индивидальный проект</h1>"
   ]
  },
  {
   "cell_type": "markdown",
   "metadata": {},
   "source": [
    "<h2 style=\"color:DodgerBlue\">Название проекта:</h2>\n",
    "\n",
    "----\n",
    "\n",
    "### Вариант задания № 11\n"
   ]
  },
  {
   "cell_type": "markdown",
   "metadata": {},
   "source": [
    "<h2 style=\"color:DodgerBlue\">Описание проекта:</h2>\n",
    "\n",
    "В своих проектах вы должны продемонстрировать различные\n",
    "концепций объектно-ориентированного программирования, такие как\n",
    "инкапсуляция, наследование, полиморфизм, (композиция или\n",
    "абстракция приветствуются) с созданием от базового класса 2-3\n",
    "производных классов и нескольких экземпляров (объектов) этих\n",
    "классов.\n",
    "\n",
    "\n",
    "----\n",
    "\n",
    "Описание задачи:\n",
    "Создать базовый класс Customer в C#, который будет представлять информацию о\n",
    "клиентах или покупателях. На основе этого класса разработать 2-3 производных\n",
    "класса, демонстрирующих принципы наследования и полиморфизма. В каждом из\n",
    "классов должны быть реализованы новые атрибуты и методы, а также\n",
    "переопределены некоторые методы базового класса для демонстрации\n",
    "полиморфизма.\n",
    "\n",
    "\n",
    "Требования к базовому классу Customer:\n",
    "\n",
    "1. Атрибуты: Идентификатор клиента (CustomerId), Имя (Name), Электронная\n",
    "почта (Email).\n",
    "\n",
    "2. Методы: \n",
    "o GetFullName(): метод для получения полного имени клиента.\n",
    "\n",
    "o UpdateEmail(string newEmail): метод для обновления электронной\n",
    "почты клиента.\n",
    "\n",
    "o ViewProfile(): метод для просмотра профиля клиента.\n",
    "\n",
    "Требования к производным классам:\n",
    "1. VIPКлиент (VipCustomer): Должен содержать дополнительные атрибуты,\n",
    "такие как Баланс лояльности (LoyaltyPoints). Метод ViewProfile() должен быть\n",
    "переопределен для отображения дополнительной информации о VIPклиенте.\n",
    "2. ОбычныйКлиент (RegularCustomer): Должен содержать дополнительные\n",
    "атрибуты, такие как Дата регистрации (RegistrationDate).\n",
    "Метод UpdateEmail() должен быть переопределен для добавления\n",
    "информации о дате последнего обновления электронной почты.\n",
    "3. ГрупповойКлиент (GroupCustomer) (если требуется третий класс): Должен\n",
    "содержать дополнительные атрибуты, такие как Название группы\n",
    "(GroupName). Метод GetFullName() должен быть переопределен для\n",
    "отображения названия группы вместо имени клиента.\n",
    "\n",
    "\n",
    "Дополнительное задание\n",
    "\n",
    "\n",
    "Добавьте к сущестующим классам (базовыму и производным 3-4 атрибута и метода) и реализуйте полиморфизм с перекрытием и прегегрузкой методов, а также generic классы\n"
   ]
  },
  {
   "cell_type": "markdown",
   "metadata": {},
   "source": [
    "<h2 style=\"color:DodgerBlue\">Реализация:</h2>\n",
    "\n",
    "----"
   ]
  },
  {
   "cell_type": "code",
   "execution_count": 2,
   "metadata": {
    "dotnet_interactive": {
     "language": "csharp"
    },
    "polyglot_notebook": {
     "kernelName": "csharp"
    }
   },
   "outputs": [
    {
     "name": "stdout",
     "output_type": "stream",
     "text": [
      "ID: 1, Имя: Алексей, Email: alex@mail.ru, Адрес: Мельникайте 12, Телефон: 82765746258, Уровень членства: Стандартный, Количество рекомендаций: 0\n",
      "Email обновлен на: 123@mail.ru\n",
      "ID: 1, Имя: Алексей\n",
      "Уровень членства обновлен на: Средний\n"
     ]
    }
   ],
   "source": [
    "public class Customer\n",
    "{\n",
    "    private int _customerId;\n",
    "\n",
    "    public int CustomerId\n",
    "    {\n",
    "        get { return _customerId; }\n",
    "        set \n",
    "        {\n",
    "            if (value > 0)\n",
    "            {\n",
    "                _customerId = value;\n",
    "            }\n",
    "            else\n",
    "            {\n",
    "                Console.WriteLine(\"CustomerId должен быть больше 0\");\n",
    "                return;\n",
    "            }\n",
    "        }\n",
    "    }\n",
    "\n",
    "    public string Name { get; set; }\n",
    "    public string Email { get; set; }\n",
    "    public string Address { get; set; }\n",
    "    public string PhoneNumber { get; set; }\n",
    "    public DateTime LastPurchaseDate { get;  set; }\n",
    "    public string MembershipLevel { get; set; } \n",
    "    public int ReferralCount { get; set; }\n",
    "\n",
    "    public Customer(int customerId, string name, string email, string address, string phoneNumber)\n",
    "    {\n",
    "        CustomerId = customerId;\n",
    "        Name = name;\n",
    "        Email = email;\n",
    "        Address = address;\n",
    "        PhoneNumber = phoneNumber;\n",
    "        LastPurchaseDate = DateTime.MinValue;\n",
    "        MembershipLevel = \"Стандартный\";\n",
    "        ReferralCount = 0;\n",
    "    }\n",
    "\n",
    "    public virtual void UpdateEmail(string newEmail)\n",
    "    {\n",
    "        Email = newEmail;\n",
    "        Console.WriteLine($\"Email обновлен на: {Email}\");\n",
    "    }\n",
    "\n",
    "    public void UpdateMembershipLevel(string newLevel)\n",
    "    {\n",
    "        MembershipLevel = newLevel;\n",
    "        Console.WriteLine($\"Уровень членства обновлен на: {MembershipLevel}\");\n",
    "    }\n",
    "\n",
    "    public virtual void ViewProfile()\n",
    "    {\n",
    "        Console.WriteLine($\"ID: {CustomerId}, Имя: {Name}, Email: {Email}, Адрес: {Address}, Телефон: {PhoneNumber}, Уровень членства: {MembershipLevel}, Количество рекомендаций: {ReferralCount}\");\n",
    "    }\n",
    "\n",
    "    public void ViewProfile(bool brief)\n",
    "    {\n",
    "        if (brief)\n",
    "        {\n",
    "            Console.WriteLine($\"ID: {CustomerId}, Имя: {Name}\");\n",
    "        }\n",
    "        else\n",
    "        {\n",
    "            ViewProfile();\n",
    "        }\n",
    "    }\n",
    "}\n",
    "\n",
    "Customer myCustomer = new Customer(1, \"Алексей\", \"alex@mail.ru\", \"Мельникайте 12\", \"82765746258\");\n",
    "myCustomer.ViewProfile();\n",
    "myCustomer.UpdateEmail(\"123@mail.ru\");\n",
    "myCustomer.ViewProfile(true);\n",
    "myCustomer.UpdateMembershipLevel(\"Средний\");"
   ]
  },
  {
   "cell_type": "code",
   "execution_count": 16,
   "metadata": {
    "dotnet_interactive": {
     "language": "csharp"
    },
    "polyglot_notebook": {
     "kernelName": "csharp"
    }
   },
   "outputs": [
    {
     "name": "stdout",
     "output_type": "stream",
     "text": [
      "Начислено 50 баллов. Всего баллов: 50\n",
      "Покупка на сумму 500. Всего покупок: 1, Суммарные траты: 500\n",
      "Начислено 30 баллов. Всего баллов: 80\n",
      "Покупка на сумму 300. Всего покупок: 2, Суммарные траты: 800\n",
      "Email обновлен на: ALEXEY@mail.ru\n",
      "Последнее обновление Email: 26.10.2024 02:57:37\n",
      "ID: 2, Имя: Алексей, Email: ALEXEY@mail.ru, Адрес: Мельникайте 12, Телефон: 82765746258, Уровень членства: Стандартный, Количество рекомендаций: 0\n",
      "Дата регистрации: 31.12.2024 00:00:00, Всего покупок: 2, Суммарные траты: 800, Баллы лояльности: 80\n",
      "-------------------------------------------------\n",
      "Клиент добавлен: Алексей\n",
      "Список клиентов:\n",
      "ID: 2, Имя: Алексей\n",
      "Клиент удален: Алексей\n",
      "Список клиентов пуст\n"
     ]
    }
   ],
   "source": [
    "public class RegularCustomer : Customer\n",
    "{\n",
    "    public DateTime RegistrationDate { get; set; }\n",
    "    public DateTime LastEmailUpdate { get; set; }\n",
    "    public int PurchaseCount { get; set; }\n",
    "    public double TotalSpent { get; set; }\n",
    "    public int LoyaltyPoints { get; set; }\n",
    "\n",
    "    public RegularCustomer(int customerId, string name, string email, string address, string phoneNumber, DateTime registrationDate)\n",
    "        : base(customerId, name, email, address, phoneNumber)\n",
    "    {\n",
    "        RegistrationDate = registrationDate;\n",
    "        LastEmailUpdate = DateTime.Now;\n",
    "        PurchaseCount = 0;\n",
    "        TotalSpent = 0;\n",
    "        LoyaltyPoints = 0;\n",
    "    }\n",
    "\n",
    "    public override void UpdateEmail(string newEmail)\n",
    "    {\n",
    "        base.UpdateEmail(newEmail);\n",
    "        LastEmailUpdate = DateTime.Now;\n",
    "        Console.WriteLine($\"Последнее обновление Email: {LastEmailUpdate}\");\n",
    "    }\n",
    "\n",
    "    public void AddLoyaltyPoints(int points)\n",
    "    {\n",
    "        LoyaltyPoints += points;\n",
    "        Console.WriteLine($\"Начислено {points} баллов. Всего баллов: {LoyaltyPoints}\");\n",
    "    }\n",
    "\n",
    "    public void RecordPurchase(double amount)\n",
    "    {\n",
    "        PurchaseCount++;\n",
    "        TotalSpent += amount;\n",
    "        LastPurchaseDate = DateTime.Now;\n",
    "        AddLoyaltyPoints((int)(amount / 10));\n",
    "        Console.WriteLine($\"Покупка на сумму {amount}. Всего покупок: {PurchaseCount}, Суммарные траты: {TotalSpent}\");\n",
    "    }\n",
    "\n",
    "    public override void ViewProfile()\n",
    "    {\n",
    "        base.ViewProfile();\n",
    "        Console.WriteLine($\"Дата регистрации: {RegistrationDate}, Всего покупок: {PurchaseCount}, Суммарные траты: {TotalSpent}, Баллы лояльности: {LoyaltyPoints}\");\n",
    "    }\n",
    "}\n",
    "\n",
    "public class CustomerRepository<T> where T : Customer\n",
    "{\n",
    "    private List<T> customers = new List<T>();\n",
    "\n",
    "    public void AddCustomer(T customer)\n",
    "    {\n",
    "        customers.Add(customer);\n",
    "        Console.WriteLine($\"Клиент добавлен: {customer.Name}\");\n",
    "    }\n",
    "\n",
    "    public void RemoveCustomer(T customer)\n",
    "    {\n",
    "        customers.Remove(customer);\n",
    "        Console.WriteLine($\"Клиент удален: {customer.Name}\");\n",
    "    }\n",
    "\n",
    "    public void ListCustomers()\n",
    "    {\n",
    "        if (customers.Any()) {\n",
    "        Console.WriteLine(\"Список клиентов:\");\n",
    "        foreach (var customer in customers) {\n",
    "            customer.ViewProfile(true);\n",
    "        }\n",
    "        } else {\n",
    "            Console.WriteLine(\"Список клиентов пуст\");\n",
    "        }\n",
    "        \n",
    "    }\n",
    "}\n",
    "\n",
    "\n",
    "RegularCustomer myRegularCustomer = new RegularCustomer(2, \"Алексей\", \"alex@mail.ru\", \"Мельникайте 12\", \"82765746258\", new DateTime(2024, 12, 31));\n",
    "myRegularCustomer.RecordPurchase(500);\n",
    "myRegularCustomer.RecordPurchase(300);\n",
    "myRegularCustomer.UpdateEmail(\"ALEXEY@mail.ru\");\n",
    "myRegularCustomer.ViewProfile();\n",
    "Console.WriteLine(\"-------------------------------------------------\");\n",
    "CustomerRepository<RegularCustomer> regularCustomerRepo = new CustomerRepository<RegularCustomer>();\n",
    "regularCustomerRepo.AddCustomer(myRegularCustomer);\n",
    "regularCustomerRepo.ListCustomers();\n",
    "regularCustomerRepo.RemoveCustomer(myRegularCustomer);\n",
    "regularCustomerRepo.ListCustomers();\n"
   ]
  },
  {
   "cell_type": "code",
   "execution_count": 27,
   "metadata": {
    "dotnet_interactive": {
     "language": "csharp"
    },
    "polyglot_notebook": {
     "kernelName": "csharp"
    }
   },
   "outputs": [
    {
     "name": "stdout",
     "output_type": "stream",
     "text": [
      "Начислено 25 баллов. Всего баллов: 25\n",
      "Покупка на сумму 250. Всего покупок: 1, Суммарные траты: 250\n",
      "Email обновлен на: newMaria@mail.ru\n",
      "Последнее обновление Email: 26.10.2024 02:53:08\n",
      "ID: 3, Имя: Маша, Email: newMaria@mail.ru, Адрес: Ул Карла маркса 98, Телефон: 89374562930, Уровень членства: Стандартный, Количество рекомендаций: 0\n",
      "Дата регистрации: 01.11.2022 00:00:00, Всего покупок: 1, Суммарные траты: 250, Баллы лояльности: 25\n",
      "Баланс лояльности: 2000\n"
     ]
    }
   ],
   "source": [
    "public class VipCustomer : RegularCustomer\n",
    "{\n",
    "    private int _loyaltyPoints;\n",
    "\n",
    "    public int LoyaltyPoints\n",
    "    {\n",
    "        get { return _loyaltyPoints; }\n",
    "        set \n",
    "        {\n",
    "            if (value < 0)\n",
    "            {\n",
    "                Console.WriteLine(\"Баллы лояльности не могут быть отрицательными.\");\n",
    "                _loyaltyPoints = 0;\n",
    "            }\n",
    "            else if (value > 10000)\n",
    "            {\n",
    "                Console.WriteLine(\"Вы достигли лимита баллов лояльности\");\n",
    "                _loyaltyPoints = 10000;\n",
    "            }\n",
    "            else\n",
    "            {\n",
    "                _loyaltyPoints = value;\n",
    "            }\n",
    "        }\n",
    "    }\n",
    "\n",
    "    public VipCustomer(int customerId, string name, string email, string address, string phoneNumber, DateTime registrationDate, int loyaltyPoints)\n",
    "        : base(customerId, name, email, address, phoneNumber, registrationDate)\n",
    "    {\n",
    "        LoyaltyPoints = loyaltyPoints;\n",
    "    }\n",
    "\n",
    "    public override void ViewProfile()\n",
    "    {\n",
    "        base.ViewProfile();\n",
    "        Console.WriteLine($\"Баланс лояльности: {LoyaltyPoints}\");\n",
    "    }\n",
    "}\n",
    "\n",
    "VipCustomer myVipCustomer = new VipCustomer(3, \"Маша\", \"masha@mail.ru\", \"Ул Карла маркса 98\", \"89374562930\", new DateTime(2022, 11, 1), 2000);\n",
    "myVipCustomer.RecordPurchase(250);\n",
    "myVipCustomer.UpdateEmail(\"newMaria@mail.ru\");\n",
    "myVipCustomer.ViewProfile();\n"
   ]
  },
  {
   "cell_type": "code",
   "execution_count": 29,
   "metadata": {
    "dotnet_interactive": {
     "language": "csharp"
    },
    "polyglot_notebook": {
     "kernelName": "csharp"
    }
   },
   "outputs": [
    {
     "name": "stdout",
     "output_type": "stream",
     "text": [
      "Цена после скидки: 850\n",
      "ID: 3, Имя: Олег, Email: oleg@mail.ru, Адрес: Республики 72, Телефон: 87563849076, Уровень членства: Стандартный, Количество рекомендаций: 0\n",
      "Скидка: 15%\n"
     ]
    }
   ],
   "source": [
    "public interface IDiscountable\n",
    "{\n",
    "    double Discount { get; set; }\n",
    "    double ApplyDiscount(double price);\n",
    "}\n",
    "\n",
    "public class SocialCustomer : Customer, IDiscountable\n",
    "{\n",
    "    public double Discount { get; set; }\n",
    "\n",
    "    public SocialCustomer(int customerId, string name, string email, string address, string phoneNumber, double discount)\n",
    "        : base(customerId, name, email, address, phoneNumber)\n",
    "    {\n",
    "        Discount = discount;\n",
    "    }\n",
    "\n",
    "    public double ApplyDiscount(double price)\n",
    "    {\n",
    "        return price - (price * (Discount / 100));\n",
    "    }\n",
    "\n",
    "    public override void ViewProfile()\n",
    "    {\n",
    "        base.ViewProfile();\n",
    "        Console.WriteLine($\"Скидка: {Discount}%\");\n",
    "    }\n",
    "}\n",
    "\n",
    "SocialCustomer socialCustomer = new SocialCustomer(3, \"Олег\", \"oleg@mail.ru\", \"Республики 72\", \"87563849076\", 15);\n",
    "double finalPrice = socialCustomer.ApplyDiscount(1000);\n",
    "Console.WriteLine($\"Цена после скидки: {finalPrice}\");\n",
    "socialCustomer.ViewProfile();"
   ]
  }
 ],
 "metadata": {
  "kernelspec": {
   "display_name": ".NET (C#)",
   "language": "C#",
   "name": ".net-csharp"
  },
  "polyglot_notebook": {
   "kernelInfo": {
    "defaultKernelName": "csharp",
    "items": [
     {
      "aliases": [],
      "languageName": "csharp",
      "name": "csharp"
     }
    ]
   }
  }
 },
 "nbformat": 4,
 "nbformat_minor": 2
}
